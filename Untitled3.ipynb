{
  "nbformat": 4,
  "nbformat_minor": 0,
  "metadata": {
    "colab": {
      "provenance": [],
      "authorship_tag": "ABX9TyOjJnGyBw128mS5ME+IYN6z",
      "include_colab_link": true
    },
    "kernelspec": {
      "name": "python3",
      "display_name": "Python 3"
    },
    "language_info": {
      "name": "python"
    },
    "gpuClass": "standard",
    "accelerator": "GPU"
  },
  "cells": [
    {
      "cell_type": "markdown",
      "metadata": {
        "id": "view-in-github",
        "colab_type": "text"
      },
      "source": [
        "<a href=\"https://colab.research.google.com/github/Fambly/PRiR_lab_8/blob/main/Untitled3.ipynb\" target=\"_parent\"><img src=\"https://colab.research.google.com/assets/colab-badge.svg\" alt=\"Open In Colab\"/></a>"
      ]
    },
    {
      "cell_type": "markdown",
      "source": [
        "# **SPRAWOZDANIE**\n",
        "\n",
        "Pierwyszym krokiem aby uruchomić ten notatnik prawidłowo należy udać się do zakładki \"**Środowisko wykonawcze**\", następnie \"**zmień typ środowiska wykonawczego**\" i ustawić akcelerator sprzętowy na \"**GPU**\", następnie klikamy *zapisz*.\n",
        "\n",
        "W tym momencie powinniśmy mieć ustawione środowisko na kartę graficzną. Kluczowymi krokami jest również pobranie i uruchomienie pewnych dodatków, które sprawią że kod do dalszych zadań zadziała. Wystarczy uruchomić kolejne 3 bloki kodów aby zweryfikować, zainstalować i włączyć te dodatki:\n",
        "\n",
        "***!nvcc --version***\n",
        "\n",
        "***!pip install git+https://github.com/andreinechaev/nvcc4jupyter.git***\n",
        "\n",
        "***%load_ext nvcc_plugin***"
      ],
      "metadata": {
        "id": "L6eO04IXCtJe"
      }
    },
    {
      "cell_type": "code",
      "execution_count": 5,
      "metadata": {
        "colab": {
          "base_uri": "https://localhost:8080/"
        },
        "id": "kICHdBBmNWJU",
        "outputId": "1104f8d7-f063-48d5-838a-7cdfd520b3f6"
      },
      "outputs": [
        {
          "output_type": "stream",
          "name": "stdout",
          "text": [
            "nvcc: NVIDIA (R) Cuda compiler driver\n",
            "Copyright (c) 2005-2021 NVIDIA Corporation\n",
            "Built on Sun_Feb_14_21:12:58_PST_2021\n",
            "Cuda compilation tools, release 11.2, V11.2.152\n",
            "Build cuda_11.2.r11.2/compiler.29618528_0\n"
          ]
        }
      ],
      "source": [
        "!nvcc --version"
      ]
    },
    {
      "cell_type": "code",
      "source": [
        "!pip install git+https://github.com/andreinechaev/nvcc4jupyter.git"
      ],
      "metadata": {
        "colab": {
          "base_uri": "https://localhost:8080/"
        },
        "id": "UUCNisVrNeeM",
        "outputId": "c766f6e6-1eba-4fb2-c774-d5be7527b449"
      },
      "execution_count": 1,
      "outputs": [
        {
          "output_type": "stream",
          "name": "stdout",
          "text": [
            "Looking in indexes: https://pypi.org/simple, https://us-python.pkg.dev/colab-wheels/public/simple/\n",
            "Collecting git+https://github.com/andreinechaev/nvcc4jupyter.git\n",
            "  Cloning https://github.com/andreinechaev/nvcc4jupyter.git to /tmp/pip-req-build-08fy6ki_\n",
            "  Running command git clone -q https://github.com/andreinechaev/nvcc4jupyter.git /tmp/pip-req-build-08fy6ki_\n",
            "Building wheels for collected packages: NVCCPlugin\n",
            "  Building wheel for NVCCPlugin (setup.py) ... \u001b[?25l\u001b[?25hdone\n",
            "  Created wheel for NVCCPlugin: filename=NVCCPlugin-0.0.2-py3-none-any.whl size=4304 sha256=127c94c925051c475d147cc82922cbc4a6da919b81b90c158ee9aeb399925a36\n",
            "  Stored in directory: /tmp/pip-ephem-wheel-cache-hf1lfkcj/wheels/f3/08/cc/e2b5b0e1c92df07dbb50a6f024a68ce090f5e7b2316b41756d\n",
            "Successfully built NVCCPlugin\n",
            "Installing collected packages: NVCCPlugin\n",
            "Successfully installed NVCCPlugin-0.0.2\n"
          ]
        }
      ]
    },
    {
      "cell_type": "code",
      "source": [
        "%load_ext nvcc_plugin"
      ],
      "metadata": {
        "colab": {
          "base_uri": "https://localhost:8080/"
        },
        "id": "HUye_ckaNhOe",
        "outputId": "446a9f6e-f99a-4629-991e-8f9399ae4276"
      },
      "execution_count": 3,
      "outputs": [
        {
          "output_type": "stream",
          "name": "stdout",
          "text": [
            "directory /content/src already exists\n",
            "Out bin /content/result.out\n"
          ]
        }
      ]
    },
    {
      "cell_type": "markdown",
      "source": [
        "Teraz możemy przetestować czy na pewno wszystko działa poprawnie zanim będziemy szukać problemu w kodzie z fraktalami i zastanawiać się czy byłaby to wina wstawienia zmiennej/funkcji w złe miejsce czy właśnie niepoprawne skonfigurowanie środowiska.\n",
        "\n",
        "Uruchamiając poniższy kod **powinniśmy otrzymać w wyniku:**\n",
        "# result is 8"
      ],
      "metadata": {
        "id": "3opSM89kEYCr"
      }
    },
    {
      "cell_type": "code",
      "source": [
        "%%cu\n",
        "#include <stdio.h>\n",
        "#include <stdlib.h>\n",
        "__global__ void add(int *a, int *b, int *c) {\n",
        "*c = *a + *b;\n",
        "}\n",
        "int main() {\n",
        "int a, b, c;\n",
        "// host copies of variables a, b & c\n",
        "int *d_a, *d_b, *d_c;\n",
        "// device copies of variables a, b & c\n",
        "int size = sizeof(int);\n",
        "// Allocate space for device copies of a, b, c\n",
        "cudaMalloc((void **)&d_a, size);\n",
        "cudaMalloc((void **)&d_b, size);\n",
        "cudaMalloc((void **)&d_c, size);\n",
        "// Setup input values  \n",
        "c = 0;\n",
        "a = 3;\n",
        "b = 5;\n",
        "// Copy inputs to device\n",
        "cudaMemcpy(d_a, &a, size, cudaMemcpyHostToDevice);\n",
        "  cudaMemcpy(d_b, &b, size, cudaMemcpyHostToDevice);\n",
        "  // Launch add() kernel on GPU\n",
        "  add<<<1,1>>>(d_a, d_b, d_c);\n",
        "  // Copy result back to host\n",
        "  cudaError err = cudaMemcpy(&c, d_c, size, cudaMemcpyDeviceToHost);\n",
        "    if(err!=cudaSuccess) {\n",
        "          printf(\"CUDA error copying to Host: %s\\n\", cudaGetErrorString(err));\n",
        "            }\n",
        "            printf(\"result is %d\\n\",c);\n",
        "            // Cleanup\n",
        "            cudaFree(d_a);\n",
        "            cudaFree(d_b);\n",
        "            cudaFree(d_c);\n",
        "            return 0;\n",
        "            }"
      ],
      "metadata": {
        "colab": {
          "base_uri": "https://localhost:8080/"
        },
        "id": "NAG9vpJIOaE_",
        "outputId": "e8761c9b-86ea-4baf-b8f8-13a5f7e3fa89"
      },
      "execution_count": 4,
      "outputs": [
        {
          "output_type": "stream",
          "name": "stdout",
          "text": [
            "result is 8\n",
            "\n"
          ]
        }
      ]
    },
    {
      "cell_type": "markdown",
      "source": [
        "Fraktal _Julii_ na ***CPU***:"
      ],
      "metadata": {
        "id": "ys7xfA4A1gk2"
      }
    },
    {
      "cell_type": "code",
      "source": [
        "%%cu \n",
        "#include<stdio.h>\n",
        "#define DIM 1000\n",
        "\n",
        "//struktura która ma za zadanie wykonywać operacje na liczbach zespolonych\n",
        "//zmienna r to część rzeczywista, czyli liczby jakie spotykamy na codzień\n",
        "//rzeczywiste, naturalne, całkowite, itp.\n",
        "//zmienna i to część urojona, czyli takie liczby jak np. pierwiastek z -2, itp.\n",
        "//jeśli jest problem ze zrozumieniem liczb urojonych polecam stronę wikipedii.\n",
        "struct cuComplex{\n",
        "  float r;\n",
        "  float i;\n",
        "  cuComplex(float a, float b):r(a),i(b){}\n",
        "  float magnitude2(void){return r*r+i*i;}\n",
        "  cuComplex operator*(const cuComplex &a){\n",
        "   return cuComplex(r*a.r-i*a.i,i*a.r+r*a.i); \n",
        "  }\n",
        "  cuComplex operator+(const cuComplex &a){\n",
        "   return cuComplex(r+a.r,i+a.i); \n",
        "  }\n",
        "};\n",
        "\n",
        "//funkcja julia oblicza poszczególne wartości dla poszczególnych pixeli,\n",
        "//pixel czyli pojedyńcza kropka w monitorze, najmniejsza jednostka \n",
        "//widzialnego przez nas obrazu w kwestii wyświetlania rzeczy na komputerze,\n",
        "//można sobie wyobrazić jakby to co widzimy na ekranie było ułożone z ogromniej\n",
        "//ilości koralików, na które jeśli spojrzymy w wystarczająco daleka to nie zauważymy \n",
        "//przerw między nimi, będzie to wyglądało płynnie jakby było to np namalowane.\n",
        "//Funckja wylicza wartości dla podanych punktów i w zależności czy spełniają one\n",
        "//zależność fraktala julii zaznacza je do późniejszego kolorowania lub też nie.\n",
        "int julia(int x, int y){\n",
        "  const float scale=1.5;\n",
        "  float jx=scale*(float)(DIM/2-x)/(DIM/2);\n",
        "  float jy=scale*(float)(DIM/2-y)/(DIM/2);\n",
        "  cuComplex c(-0.8,0.156);\n",
        "  cuComplex a(jx,jy);\n",
        "  int i=0;\n",
        "  for(i=0;i<200;i++){\n",
        "    a=a*a+c;\n",
        "    if(a.magnitude2()>1000) return 0;\n",
        "  }\n",
        "return 1;\n",
        "}\n",
        "\n",
        "//funkcja kernel w tym wypadku określa wartości RBG w zależności czy pkt należy\n",
        "//do zbioru julii czy nie. tu akurat nie jest aż tak ważna jak w CUDA gdzie\n",
        "//global void kernel() informuje kompilator o tym, że dana funkcja \n",
        "//powinna zostać skompilowana dla urządzenia a nie hosta\n",
        "void kernel(unsigned char *ptr){\n",
        "  for(int y=0;y<DIM;y++){\n",
        "    for(int x=0;x<DIM;x++){\n",
        "      int offset=x+y*DIM;\n",
        "      int juliaValue=julia(x,y);\n",
        "      ptr[offset*4+0]=255*juliaValue;\n",
        "      ptr[offset*4+1]=0;\n",
        "      ptr[offset*4+2]=0;\n",
        "      ptr[offset*4+3]=255;\n",
        "    }\n",
        "  }\n",
        "}\n",
        "                                                                                                                                                                                                  \n",
        "struct DataBlock{\n",
        "  unsigned char *dev_bitmap;\n",
        "};\n",
        "\n",
        "//metoda wypisująca wartości RGB dla każdego poszczególnego pixela\n",
        "void wypisz_RGB_fraktal(unsigned char *ptr){\n",
        "  for(int y=0;y<DIM;y++){\n",
        "    for(int x=0;x<DIM;x++){\n",
        "      int offset=x+y*DIM;\n",
        "      printf(\"\\n%d, %d, %d, %d\", ptr[offset*4+0], ptr[offset*4+1], ptr[offset*4+2], ptr[offset*4+3]);\n",
        "    }\n",
        "  }\n",
        "}\n",
        "\n",
        "\n",
        "//funkcja która zapisuje wartości rgb do pliku .ppm, gdzie plik ten ma strukturę\n",
        "//#'P3 \n",
        "//# R G B'\n",
        "//gdzie rgb to kolejno wartości kolorów czerwonego, zielonego i niebieskiego\n",
        "//w skali 0 - 255.\n",
        "//Można wybrać w jakim kolorze możemy to zapisać, wystarczy w linii nr. 94 wpisać\n",
        "//w miejsce odpowiednio R G B jaki kolor chcemy (red - czerwony, green - zielony, blue - niebieski)\n",
        "//wstawiamy po ostatnim przecinku \"ptr[offset*4+0]\", a te kolory których nie chcemy\n",
        "//ustawiamy na inne wartości offset*4+X.\n",
        "void save_to_file(unsigned char *ptr){\n",
        "  FILE *fp=fopen(\"Fraktal_J_CPU.ppm\",\"w\");\n",
        "  //////\n",
        "  fprintf(fp,\"P3\\n%d %d\\n255\\n\", DIM, DIM);\n",
        "  ///////\n",
        "  for(int y=0;y<DIM;y++){\n",
        "    for(int x=0;x<DIM;x++){\n",
        "      int offset=x+y*DIM;\n",
        "      fprintf(fp,\"\\n%d %d %d\", ptr[offset*4+1], ptr[offset*4+0], ptr[offset*4+2]);\n",
        "    }\n",
        "  }\n",
        "  fclose(fp);\n",
        "}\n",
        "\n",
        "//funkcja główna, jeśli chodzi o specyfikę czemu jest główna i resztę detali\n",
        "//można sobie wyszukać na wikipedii. Uruchamiany tu jest zegar który zlicza czas,\n",
        "//jaki zajeło wykonanie zadania, który później wykorzystany jest do analizy i wykresów\n",
        "int main(void){\n",
        "  clock_t start, end;\n",
        "  double execution_time;\n",
        "  start = clock();\n",
        "\n",
        "  DataBlock data;\n",
        "  unsigned char *bitmap = (unsigned char*)malloc(DIM*DIM*4*sizeof(unsigned char));\n",
        "  int image_size = DIM*DIM*4;\n",
        "  kernel(bitmap);\n",
        "  save_to_file (bitmap);\n",
        "\n",
        "  end = clock();\n",
        "  execution_time = ((double)(end - start))/CLOCKS_PER_SEC;\n",
        "  printf(\"Wykonanie zadania zajeło: %f sekund\\nMożna wyświetlić fraktal naciskając ikonę folderu po lewej stronie, \\nnastępnie nacisnąć prawym przyciskiem myszy na plik 'Fraktal_J_CPU.ppm', \\na następnie pobierz. \\nNa komputerze można wyświetlić pliki .ppm np za pomocą programu IrfanView.\", execution_time);\n",
        "}"
      ],
      "metadata": {
        "colab": {
          "base_uri": "https://localhost:8080/"
        },
        "id": "6qdqau2TH64h",
        "outputId": "0304d692-e1cb-4808-dc29-228da23ab5cd"
      },
      "execution_count": 3,
      "outputs": [
        {
          "output_type": "stream",
          "name": "stdout",
          "text": [
            "Wykonanie zadania zajeło: 1.043974 sekund\n",
            "Można wyświetlić fraktal naciskając ikonę folderu po lewej stronie, \n",
            "następnie nacisnąć prawym przyciskiem myszy na plik 'Fraktal_J_CPU.ppm', \n",
            "a następnie pobierz. \n",
            "Na komputerze można wyświetlić pliki .ppm np za pomocą programu IrfanView.\n"
          ]
        }
      ]
    },
    {
      "cell_type": "markdown",
      "source": [
        "Fraktal _Julii_ na ***GPU***:"
      ],
      "metadata": {
        "id": "E8ixPmKa1vaY"
      }
    },
    {
      "cell_type": "code",
      "source": [
        "%%cu \n",
        "#include<stdio.h>\n",
        "#define DIM 1000\n",
        "\n",
        "//struktura która ma za zadanie wykonywać operacje na liczbach zespolonych\n",
        "//zmienna r to część rzeczywista, czyli liczby jakie spotykamy na codzień\n",
        "//rzeczywiste, naturalne, całkowite, itp.\n",
        "//zmienna i to część urojona, czyli takie liczby jak np. pierwiastek z -2, itp.\n",
        "//jeśli jest problem ze zrozumieniem liczb urojonych polecam stronę wikipedii.\n",
        "//z tą różnicą, że na GPU występują słowa kluczowe\n",
        "//dla CUDA, tutaj __device__ oznaczającego, że dany fragment kodu \n",
        "//ma zostać wykonany na GPU. Należy pamiętać, że funkcje\n",
        "//zadeklarowane jako __device__ można wywoływać tylko z innych \n",
        "//funkcji tego samego typu lub typu __global__\n",
        "struct cuComplex{\n",
        "  float r;\n",
        "  float i;\n",
        "  __device__ cuComplex(float a, float b):r(a),i(b){}\n",
        "  __device__ float magnitude2(void){ return r*r+i*i; }\n",
        "  __device__ cuComplex operator*(const cuComplex &a){\n",
        "       return cuComplex(r*a.r-i*a.i,i*a.r+r*a.i); }\n",
        "  __device__ cuComplex operator+(const cuComplex &a){ \n",
        "       return cuComplex(r+a.r,i+a.i); }\n",
        "};\n",
        "\n",
        "\n",
        "//funkcja julia oblicza poszczególne wartości dla poszczególnych pixeli,\n",
        "//pixel czyli pojedyńcza kropka w monitorze, najmniejsza jednostka \n",
        "//widzialnego przez nas obrazu w kwestii wyświetlania rzeczy na komputerze,\n",
        "//można sobie wyobrazić jakby to co widzimy na ekranie było ułożone z ogromniej\n",
        "//ilości koralików, na które jeśli spojrzymy w wystarczająco daleka to nie zauważymy \n",
        "//przerw między nimi, będzie to wyglądało płynnie jakby było to np namalowane.\n",
        "//Funckja wylicza wartości dla podanych punktów i w zależności czy spełniają one\n",
        "//zależność fraktala julii zaznacza je do późniejszego kolorowania lub też nie.\n",
        "//tu tak samo jak poprzednio znów tylko różnica jest z __device__ i wyliczamy \n",
        "//punkty zgodnie ze wzorem na fraktal julii, czyli z wybranym na dzień dobry\n",
        "//punktem składającym się z liczby rzeczywistej i urojonej.\n",
        "__device__ int julia(int x, int y){\n",
        "  const float scale=1.5;\n",
        "  float jx=scale*(float)(DIM/2-x)/(DIM/2);\n",
        "  float jy=scale*(float)(DIM/2-y)/(DIM/2);\n",
        "  cuComplex c(-0.8,0.156);\n",
        "  cuComplex a(jx,jy);\n",
        "  int i=0;\n",
        "  for(i=0;i<200;i++){\n",
        "    a=a*a+c;\n",
        "    if(a.magnitude2()>1000) return 0;\n",
        "  }\n",
        "  return 1;\n",
        "}\n",
        "\n",
        "//pusta funkcje o nazwie kernel() z kwalifikatorem __global__ - informuje on\n",
        "//kompilator o tym, że dana funkcja powinna zostać skompilowana dla\n",
        "//urządzenia a nie hosta, w tym przypadku funkcja kernel () zostanie\n",
        "//przekazana do kompilatora zajmującego się kodem przeznaczonym dla\n",
        "//urządzenia, a funkcja main() do kompilatora hosta.\n",
        "//blockldx.x – zmienna określa nr bloku, która wykonuję daną kopię KeyboardInterrupt\n",
        "//reszta jak poprzednio tylko dla fraktala julii.\n",
        "__global__ void kernel(unsigned char *ptr){\n",
        "  int x=blockIdx.x;\n",
        "  int y=blockIdx.y;\n",
        "  int offset=x+y*gridDim.x;\n",
        "  \n",
        "  int juliaValue=julia(x,y);\n",
        "  ptr[offset*4+0]=255*juliaValue;\n",
        "  ptr[offset*4+1]=0;\n",
        "  ptr[offset*4+2]=0;\n",
        "  ptr[offset*4+3]=255;\n",
        "}\n",
        "\n",
        "struct DataBlock{\n",
        "  unsigned char *dev_bitmap;\n",
        "};\n",
        "\n",
        "\n",
        "//metoda wypisująca wartości RGB dla każdego poszczególnego pixela\n",
        "void wypisz_RGB_fraktal(unsigned char *ptr){\n",
        "  for(int y=0;y<DIM;y++){\n",
        "    for(int x=0;x<DIM;x++){\n",
        "      int offset=x+y*DIM;\n",
        "      printf(\"\\n%d, %d, %d, %d\", ptr[offset*4+0], ptr[offset*4+1], ptr[offset*4+2], ptr[offset*4+3]);\n",
        "    }\n",
        "  }\n",
        "}\n",
        "\n",
        "//funkcja która zapisuje wartości rgb do pliku .ppm, gdzie plik ten ma strukturę\n",
        "//#'P3 \n",
        "//# R G B'\n",
        "//gdzie rgb to kolejno wartości kolorów czerwonego, zielonego i niebieskiego\n",
        "//w skali 0 - 255.\n",
        "//Można wybrać w jakim kolorze możemy to zapisać, wystarczy w linii nr. 103 wpisać\n",
        "//w miejsce odpowiednio R G B jaki kolor chcemy (red - czerwony, green - zielony, blue - niebieski)\n",
        "//wstawiamy po ostatnim przecinku \"ptr[offset*4+0]\", a te kolory których nie chcemy\n",
        "//ustawiamy na inne wartości offset*4+X.\n",
        "void save_to_file(unsigned char *ptr){\n",
        "  FILE *fp=fopen(\"Fraktal_J_GPU.ppm\",\"w\");\n",
        "\n",
        "  fprintf(fp,\"P3\\n%d %d\\n255\\n\", DIM, DIM);\n",
        "\n",
        "  for(int y=0;y<DIM;y++){\n",
        "    for(int x=0;x<DIM;x++){\n",
        "      int offset=x+y*DIM;\n",
        "      fprintf(fp,\"\\n%d %d %d\", ptr[offset*4+1], ptr[offset*4+0], ptr[offset*4+2]);\n",
        "    }\n",
        "  }\n",
        "  fclose(fp);\n",
        "}\n",
        "\n",
        "\n",
        "//funkcja główna, jeśli chodzi o specyfikę czemu jest główna i resztę detali\n",
        "//można sobie wyszukać na wikipedii. Uruchamiany tu jest zegar który zlicza czas,\n",
        "//jaki zajeło wykonanie zadania, który później wykorzystany jest do analizy i wykresów\n",
        "//funkcja cudaMalloc() rezerwuje w pamięci GPU miejsce na przekazany argument.\n",
        "//zmienna dim3 odpowiada za definiowanie wątków jako zmienną dwu wymiarową.\n",
        "//kernel<<<x,y>>>() wywołuje funkcję kernel.\n",
        "//cudaMemcpy() kopiuje parametr z pamięci host do pamięci device.\n",
        "//cudaFree() zwalnia pamięć\n",
        "int main(void){\n",
        "  clock_t start, end;\n",
        "  double execution_time;\n",
        "  start = clock();\n",
        "\n",
        "  DataBlock data;\n",
        "  unsigned char *bitmap = (unsigned char*)malloc(DIM*DIM*4*sizeof(unsigned char));\n",
        "  int image_size = DIM*DIM*4;\n",
        "  unsigned char *dev_bitmap;\n",
        "\n",
        "  cudaMalloc((void**)&dev_bitmap, image_size);\n",
        "  data.dev_bitmap=dev_bitmap;\n",
        "  dim3 grid(DIM,DIM);\n",
        "  kernel<<<grid,1>>>(dev_bitmap);\n",
        "  cudaMemcpy(bitmap,dev_bitmap,image_size,cudaMemcpyDeviceToHost);\n",
        "  cudaFree(dev_bitmap);\n",
        "  save_to_file (bitmap);\n",
        "\n",
        "  end = clock();\n",
        "  execution_time = ((double)(end - start))/CLOCKS_PER_SEC;\n",
        "  printf(\"Wykonanie zadania zajeło: %f sekund\\nMożna wyświetlić fraktal naciskając ikonę folderu po lewej stronie, \\nnastępnie nacisnąć prawym przyciskiem myszy na plik 'Fraktal_J_GPU.ppm', \\na następnie pobierz. \\nNa komputerze można wyświetlić pliki .ppm np za pomocą programu IrfanView.\", execution_time);\n",
        "}"
      ],
      "metadata": {
        "colab": {
          "base_uri": "https://localhost:8080/"
        },
        "id": "u4ZSURc_xv5M",
        "outputId": "50913c86-5420-4d9e-98d3-d3327a03ec27"
      },
      "execution_count": null,
      "outputs": [
        {
          "output_type": "stream",
          "name": "stdout",
          "text": [
            "Wykonanie zadania zajeło: 0.751647 sekund\n",
            "Można wyświetlić fraktal naciskając ikonę folderu po lewej stronie, \n",
            "następnie nacisnąć prawym przyciskiem myszy na plik 'Fraktal_J_GPU.ppm', \n",
            "a następnie pobierz. \n",
            "Na komputerze można wyświetlić pliki .ppm np za pomocą programu IrfanView.\n"
          ]
        }
      ]
    },
    {
      "cell_type": "markdown",
      "source": [
        "Wykresy i podsumowanie Julii."
      ],
      "metadata": {
        "id": "BN7yz0_C4Mb2"
      }
    },
    {
      "cell_type": "code",
      "source": [
        "import matplotlib.pyplot as plt\n",
        "\n",
        "dims = (1000, 5000, 10000)\n",
        "timeCPU = (0.947622, 24.114844, 95.583010)\n",
        "timeGPU = (0.811615, 4.371521, 15.140495)\n",
        "\n",
        "\n",
        "plt.plot(dims, timeCPU, label='CPU')\n",
        "plt.plot(dims, timeGPU, label='GPU')\n",
        "plt.xlabel(\"Rozmiar DIM\")\n",
        "plt.ylabel(\"Czas w sek.\")\n",
        "plt.title(\"Wykres generowania fraktali Julii CPU vs GPU\")\n",
        "plt.legend()\n",
        "plt.show()"
      ],
      "metadata": {
        "colab": {
          "base_uri": "https://localhost:8080/"
        },
        "id": "fwMosbZ24TI7",
        "outputId": "ea4719e2-3640-4874-bba7-3d6e39631ff4"
      },
      "execution_count": null,
      "outputs": [
        {
          "output_type": "display_data",
          "data": {
            "text/plain": [
              "<Figure size 432x288 with 1 Axes>"
            ],
            "image/png": "[encoded data removed]"
          },
          "metadata": {
            "needs_background": "light"
          }
        }
      ]
    },
    {
      "cell_type": "markdown",
      "source": [
        "Fraktal _Mandelbrota_ na ***CPU***:"
      ],
      "metadata": {
        "id": "HAQxGSyc-_hL"
      }
    },
    {
      "cell_type": "code",
      "source": [
        "%%cu \n",
        "#include<stdio.h>\n",
        "#define DIM 1000\n",
        "\n",
        "//struktura która ma za zadanie wykonywać operacje na liczbach zespolonych\n",
        "//zmienna r to część rzeczywista, czyli liczby jakie spotykamy na codzień\n",
        "//rzeczywiste, naturalne, całkowite, itp.\n",
        "//zmienna i to część urojona, czyli takie liczby jak np. pierwiastek z -2, itp.\n",
        "//jeśli jest problem ze zrozumieniem liczb urojonych polecam stronę wikipedii.\n",
        "struct cuComplex{\n",
        "  float r;\n",
        "  float i;\n",
        "  cuComplex(float a, float b):r(a),i(b){}\n",
        "  float magnitude2(void){return r*r+i*i;}\n",
        "  cuComplex operator*(const cuComplex &a){\n",
        "       return cuComplex(r*a.r-i*a.i,i*a.r+r*a.i); }\n",
        "  cuComplex operator+(const cuComplex &a){\n",
        "       return cuComplex(r+a.r,i+a.i); }\n",
        "};\n",
        "\n",
        "//funkcja mandelbrot oblicza poszczególne wartości dla poszczególnych pixeli,\n",
        "//pixel czyli pojedyńcza kropka w monitorze, najmniejsza jednostka \n",
        "//widzialnego przez nas obrazu w kwestii wyświetlania rzeczy na komputerze,\n",
        "//można sobie wyobrazić jakby to co widzimy na ekranie było ułożone z ogromniej\n",
        "//ilości koralików, na które jeśli spojrzymy w wystarczająco daleka to nie zauważymy \n",
        "//przerw między nimi, będzie to wyglądało płynnie jakby było to np namalowane.\n",
        "//Funckja wylicza wartości dla podanych punktów i w zależności czy spełniają one\n",
        "//zależność fraktala mandelbrota zaznacza je do późniejszego kolorowania lub też nie.\n",
        "int mandelbrot(int x, int y){\n",
        "  const float scale=1.5;\n",
        "  float jx=scale*(float)(DIM/2-x)/(DIM/2);\n",
        "  float jy=scale*(float)(DIM/2-y)/(DIM/2);\n",
        "  cuComplex c(jx,jy);\n",
        "  cuComplex a(0,0);\n",
        "  int i=0;\n",
        "  for(i=0;i<200;i++){\n",
        "    a=a*a+c;\n",
        "    if(a.magnitude2()>1000) return 0;\n",
        "  }\n",
        "  return 1;\n",
        "}\n",
        "\n",
        "//funkcja kernel w tym wypadku określa wartości RBG w zależności czy pkt należy\n",
        "//do zbioru mandelbrota czy nie. tu akurat nie jest aż tak ważna jak w CUDA gdzie\n",
        "//global void kernel() informuje kompilator o tym, że dana funkcja \n",
        "//powinna zostać skompilowana dla urządzenia a nie hosta\n",
        "void kernel(unsigned char *ptr){\n",
        "  for(int y=0;y<DIM;y++){\n",
        "    for(int x=0;x<DIM;x++){\n",
        "      int offset=x+y*DIM;\n",
        "      int mandelbrotValue=mandelbrot(x,y);\n",
        "      ptr[offset*4+0]=255*mandelbrotValue;\n",
        "      ptr[offset*4+1]=0;\n",
        "      ptr[offset*4+2]=0;\n",
        "      ptr[offset*4+3]=255;\n",
        "    }\n",
        "  }\n",
        "}                                                                                                                                                                                                    \n",
        "\n",
        "struct DataBlock{\n",
        "  unsigned char *dev_bitmap;\n",
        "};\n",
        "\n",
        "//metoda wypisująca wartości RGB dla każdego poszczególnego pixela\n",
        "void wypisz_RGB_fraktal(unsigned char *ptr){\n",
        "  for(int y=0;y<DIM;y++){\n",
        "    for(int x=0;x<DIM;x++){\n",
        "      int offset=x+y*DIM;\n",
        "      printf(\"\\n%d, %d, %d, %d\", ptr[offset*4+0], ptr[offset*4+1], ptr[offset*4+2], ptr[offset*4+3]);\n",
        "    }\n",
        "  }\n",
        "}\n",
        "\n",
        "//funkcja która zapisuje wartości rgb do pliku .ppm, gdzie plik ten ma strukturę\n",
        "//#'P3 \n",
        "//# R G B'\n",
        "//gdzie rgb to kolejno wartości kolorów czerwonego, zielonego i niebieskiego\n",
        "//w skali 0 - 255.\n",
        "//Można wybrać w jakim kolorze możemy to zapisać, wystarczy w linii nr. 89 wpisać\n",
        "//w miejsce odpowiednio R G B jaki kolor chcemy (red - czerwony, green - zielony, blue - niebieski)\n",
        "//wstawiamy po ostatnim przecinku \"ptr[offset*4+0]\", a te kolory których nie chcemy\n",
        "//ustawiamy na inne wartości offset*4+X.\n",
        "void save_to_file(unsigned char *ptr){\n",
        "  FILE *fp=fopen(\"Fraktal_M_CPU.ppm\",\"w\");\n",
        "  fprintf(fp,\"P3\\n%d %d\\n255\\n\", DIM, DIM);\n",
        "  for(int y=0;y<DIM;y++){\n",
        "    for(int x=0;x<DIM;x++){\n",
        "      int offset=x+y*DIM;\n",
        "      fprintf(fp,\"\\n%d %d %d\", ptr[offset*4+1], ptr[offset*4+0], ptr[offset*4+2]);\n",
        "    }\n",
        "  }\n",
        "  fclose(fp);\n",
        "}\n",
        "\n",
        "//funkcja główna, jeśli chodzi o specyfikę czemu jest główna i resztę detali\n",
        "//można sobie wyszukać na wikipedii. Uruchamiany tu jest zegar który zlicza czas,\n",
        "//jaki zajeło wykonanie zadania, który później wykorzystany jest do analizy i wykresów\n",
        "int main(void){\n",
        "  clock_t start, end;\n",
        "  double execution_time;\n",
        "  start = clock();\n",
        "\n",
        "  DataBlock data;\n",
        "  unsigned char *bitmap = (unsigned char*)malloc(DIM*DIM*4*sizeof(unsigned char));\n",
        "  int image_size = DIM*DIM*4;\n",
        "  kernel(bitmap);\n",
        "  save_to_file (bitmap);\n",
        "  \n",
        "  end = clock();\n",
        "  execution_time = ((double)(end - start))/CLOCKS_PER_SEC;\n",
        "  printf(\"Wykonanie zadania zajeło: %f sekund\\nMożna wyświetlić fraktal naciskając ikonę folderu po lewej stronie, \\nnastępnie nacisnąć prawym przyciskiem myszy na plik 'Fraktal_M_CPU.ppm', \\na następnie pobierz. \\nNa komputerze można wyświetlić pliki .ppm np za pomocą programu IrfanView.\", execution_time);\n",
        "}"
      ],
      "metadata": {
        "colab": {
          "base_uri": "https://localhost:8080/"
        },
        "id": "hYa1p61A_Nhl",
        "outputId": "f807affb-92f8-45e9-ace0-1ab85acf3abd"
      },
      "execution_count": null,
      "outputs": [
        {
          "output_type": "stream",
          "name": "stdout",
          "text": [
            "Wykonanie zadania zajeło: 1.437806 sekund\n",
            "Można wyświetlić fraktal naciskając ikonę folderu po lewej stronie, \n",
            "następnie nacisnąć prawym przyciskiem myszy na plik 'Fraktal_M_CPU.ppm', \n",
            "a następnie pobierz. \n",
            "Na komputerze można wyświetlić pliki .ppm np za pomocą programu IrfanView.\n"
          ]
        }
      ]
    },
    {
      "cell_type": "markdown",
      "source": [
        "Fraktal _Mandelbrota_ na ***GPU***:"
      ],
      "metadata": {
        "id": "2g5a9VopB8Xc"
      }
    },
    {
      "cell_type": "code",
      "source": [
        "%%cu\n",
        "#include<stdio.h>\n",
        "#define DIM 1000\n",
        "\n",
        "//struktura która ma za zadanie wykonywać operacje na liczbach zespolonych\n",
        "//zmienna r to część rzeczywista, czyli liczby jakie spotykamy na codzień\n",
        "//rzeczywiste, naturalne, całkowite, itp.\n",
        "//zmienna i to część urojona, czyli takie liczby jak np. pierwiastek z -2, itp.\n",
        "//jeśli jest problem ze zrozumieniem liczb urojonych polecam stronę wikipedii.\n",
        "//z tą różnicą, że na GPU występują słowa kluczowe\n",
        "//dla CUDA, tutaj __device__ oznaczającego, że dany fragment kodu \n",
        "//ma zostać wykonany na GPU. Należy pamiętać, że funkcje\n",
        "//zadeklarowane jako __device__ można wywoływać tylko z innych \n",
        "//funkcji tego samego typu lub typu __global__\n",
        "struct cuComplex{\n",
        "  float r;\n",
        "  float i;\n",
        "  __device__ cuComplex(float a, float b):r(a),i(b){}\n",
        "  __device__ float magnitude2(void){ return r*r+i*i; }\n",
        "  __device__ cuComplex operator*(const cuComplex &a){\n",
        "       return cuComplex(r*a.r-i*a.i,i*a.r+r*a.i); }\n",
        "  __device__ cuComplex operator+(const cuComplex &a){\n",
        "       return cuComplex(r+a.r,i+a.i); }\n",
        "};\n",
        "\n",
        "//funkcja mandelbrot oblicza poszczególne wartości dla poszczególnych pixeli,\n",
        "//pixel czyli pojedyńcza kropka w monitorze, najmniejsza jednostka \n",
        "//widzialnego przez nas obrazu w kwestii wyświetlania rzeczy na komputerze,\n",
        "//można sobie wyobrazić jakby to co widzimy na ekranie było ułożone z ogromniej\n",
        "//ilości koralików, na które jeśli spojrzymy w wystarczająco daleka to nie zauważymy \n",
        "//przerw między nimi, będzie to wyglądało płynnie jakby było to np namalowane.\n",
        "//Funckja wylicza wartości dla podanych punktów i w zależności czy spełniają one\n",
        "//zależność fraktala mandelbrota zaznacza je do późniejszego kolorowania lub też nie.\n",
        "//tu tak samo jak poprzednio znów tylko różnica jest z __device__ i wyliczamy \n",
        "//punkty zgodnie ze wzorem na fraktal mandelbrota.\n",
        "__device__  int mandelbrot(int x, int y){\n",
        "  const float scale=1.5;\n",
        "  float jx=scale*(float)(DIM/2-x)/(DIM/2);\n",
        "  float jy=scale*(float)(DIM/2-y)/(DIM/2);\n",
        "  cuComplex c(jx,jy);\n",
        "  cuComplex a(0,0);\n",
        "  int i=0;\n",
        "  for(i=0;i<200;i++){\n",
        "    a=a*a+c;\n",
        "    if(a.magnitude2()>1000) return 0; \n",
        "  }\n",
        "  return 1;\n",
        "}\n",
        "\n",
        "//pusta funkcje o nazwie kernel() z kwalifikatorem __global__ - informuje on\n",
        "//kompilator o tym, że dana funkcja powinna zostać skompilowana dla\n",
        "//urządzenia a nie hosta, w tym przypadku funkcja kernel () zostanie\n",
        "//przekazana do kompilatora zajmującego się kodem przeznaczonym dla\n",
        "//urządzenia, a funkcja main() do kompilatora hosta.\n",
        "//blockldx.x – zmienna określa nr bloku, która wykonuję daną kopię KeyboardInterrupt\n",
        "//reszta jak poprzednio tylko dla fraktala julii.\n",
        "__global__ void kernel(unsigned char *ptr){\n",
        "  int x=blockIdx.x;\n",
        "  int y=blockIdx.y;\n",
        "  int offset=x+y*gridDim.x;\n",
        "  int mandelbrotValue=mandelbrot(x,y);\n",
        "  ptr[offset*4+0]=255*mandelbrotValue;\n",
        "  ptr[offset*4+1]=0;\n",
        "  ptr[offset*4+2]=0;\n",
        "  ptr[offset*4+3]=255;\n",
        "}\n",
        "\n",
        "struct DataBlock{\n",
        "  unsigned char *dev_bitmap;\n",
        "};\n",
        "\n",
        "//metoda wypisująca wartości RGB dla każdego poszczególnego pixela\n",
        "void wypisz_RGB_fraktal(unsigned char *ptr){\n",
        "  for(int y=0;y<DIM;y++){\n",
        "    for(int x=0;x<DIM;x++){\n",
        "      int offset=x+y*DIM;\n",
        "      printf(\"\\n%d, %d, %d, %d\", ptr[offset*4+0], ptr[offset*4+1], ptr[offset*4+2], ptr[offset*4+3]);\n",
        "    }\n",
        "  }\n",
        "}\n",
        "\n",
        "//funkcja która zapisuje wartości rgb do pliku .ppm, gdzie plik ten ma strukturę\n",
        "//#'P3 \n",
        "//# R G B'\n",
        "//gdzie rgb to kolejno wartości kolorów czerwonego, zielonego i niebieskiego\n",
        "//w skali 0 - 255.\n",
        "//Można wybrać w jakim kolorze możemy to zapisać, wystarczy w linii nr. 97 wpisać\n",
        "//w miejsce odpowiednio R G B jaki kolor chcemy (red - czerwony, green - zielony, blue - niebieski)\n",
        "//wstawiamy po ostatnim przecinku \"ptr[offset*4+0]\", a te kolory których nie chcemy\n",
        "//ustawiamy na inne wartości offset*4+X.\n",
        "void save_to_file(unsigned char *ptr){\n",
        "  FILE *fp=fopen(\"Fraktal_M_GPU.ppm\",\"w\");\n",
        "  fprintf(fp,\"P3\\n%d %d\\n255\\n\", DIM, DIM);\n",
        "  for(int y=0;y<DIM;y++){\n",
        "    for(int x=0;x<DIM;x++){\n",
        "      int offset=x+y*DIM;\n",
        "      fprintf(fp,\"\\n%d %d %d\", ptr[offset*4+1], ptr[offset*4+0],ptr[offset*4+2]);\n",
        "    }\n",
        "  }\n",
        "  fclose(fp);\n",
        "}                                                                                                                                                                                                              \n",
        "\n",
        "//funkcja główna, jeśli chodzi o specyfikę czemu jest główna i resztę detali\n",
        "//można sobie wyszukać na wikipedii. Uruchamiany tu jest zegar który zlicza czas,\n",
        "//jaki zajeło wykonanie zadania, który później wykorzystany jest do analizy i wykresów\n",
        "//funkcja cudaMalloc() rezerwuje w pamięci GPU miejsce na przekazany argument.\n",
        "//zmienna dim3 odpowiada za definiowanie wątków jako zmienną dwu wymiarową.\n",
        "//kernel<<<x,y>>>() wywołuje funkcję kernel.\n",
        "//cudaMemcpy() kopiuje parametr z pamięci host do pamięci device.\n",
        "//cudaFree() zwalnia pamięć\n",
        "int main(void){\n",
        "  clock_t start, end;\n",
        "  double execution_time;\n",
        "  start = clock();\n",
        "\n",
        "  DataBlock data;\n",
        "  unsigned char *bitmap = (unsigned char*)malloc(DIM*DIM*4*sizeof(unsigned char));\n",
        "  int image_size = DIM*DIM*4;\n",
        "  unsigned char *dev_bitmap;\n",
        "  cudaMalloc((void**)&dev_bitmap, image_size);\n",
        "  data.dev_bitmap=dev_bitmap;\n",
        "  dim3 grid(DIM,DIM);\n",
        "  kernel<<<grid,1>>>(dev_bitmap);\n",
        "  cudaMemcpy(bitmap,dev_bitmap,image_size,cudaMemcpyDeviceToHost);\n",
        "  cudaFree(dev_bitmap);\n",
        "  save_to_file (bitmap);\n",
        "\n",
        "  end = clock();\n",
        "  execution_time = ((double)(end - start))/CLOCKS_PER_SEC;\n",
        "  printf(\"Wykonanie zadania zajeło: %f sekund\\nMożna wyświetlić fraktal naciskając ikonę folderu po lewej stronie, \\nnastępnie nacisnąć prawym przyciskiem myszy na plik 'Fraktal_M_GPU.ppm', \\na następnie pobierz. \\nNa komputerze można wyświetlić pliki .ppm np za pomocą programu IrfanView.\", execution_time);\n",
        "}"
      ],
      "metadata": {
        "colab": {
          "base_uri": "https://localhost:8080/"
        },
        "id": "kNxlOodnB2sL",
        "outputId": "c86cc8f9-7d1b-425f-9f1e-a8dd214a0d4a"
      },
      "execution_count": null,
      "outputs": [
        {
          "output_type": "stream",
          "name": "stdout",
          "text": [
            "Wykonanie zadania zajeło: 0.932355 sekund\n",
            "Można wyświetlić fraktal naciskając ikonę folderu po lewej stronie, \n",
            "następnie nacisnąć prawym przyciskiem myszy na plik 'Fraktal_M_GPU.ppm', \n",
            "a następnie pobierz. \n",
            "Na komputerze można wyświetlić pliki .ppm np za pomocą programu IrfanView.\n"
          ]
        }
      ]
    },
    {
      "cell_type": "code",
      "source": [
        "import matplotlib.pyplot as plt\n",
        "\n",
        "dims = (1000, 5000, 10000)\n",
        "timeCPU = (1.458338, 36.898973, 146.264889)\n",
        "timeGPU = (0.825986, 4.719423, 16.302911)\n",
        "\n",
        "\n",
        "plt.plot(dims, timeCPU, label='CPU')\n",
        "plt.plot(dims, timeGPU, label='GPU')\n",
        "plt.xlabel(\"Rozmiar DIM\")\n",
        "plt.ylabel(\"Czas w sek.\")\n",
        "plt.title(\"Wykres generowania fraktali Mandelbrota CPU vs GPU\")\n",
        "plt.legend()\n",
        "plt.show()"
      ],
      "metadata": {
        "colab": {
          "base_uri": "https://localhost:8080/",
          "height": 295
        },
        "id": "NQL-1SoqBixt",
        "outputId": "35b8b512-f75b-4cd1-b20e-fefb0d847bff"
      },
      "execution_count": null,
      "outputs": [
        {
          "output_type": "display_data",
          "data": {
            "text/plain": [
              "<Figure size 432x288 with 1 Axes>"
            ],
            "image/png": "[encoded data removed]"
          },
          "metadata": {
            "needs_background": "light"
          }
        }
      ]
    },
    {
      "cell_type": "markdown",
      "source": [
        "**Fraktal** - fraktal to rodzaj kształtu matematycznego, który jest nieskończenie złożony. Fraktal jest wzorem, który powtarza się w nieskończoność, a każda część fraktala, niezależnie od tego, jak bardzo jest powiększona lub pomniejszona, wygląda bardzo podobnie do całego obrazu. Fraktale można spotkać w naturze, np chmury, błyskawice, itp.\n",
        "\n",
        "**CUDA** - równoległa architektura obliczeniowa od firmy NVIDIA. Platforma obliczeń równoległych CUDA jest szeroko stosowana w tysiącach akcelerowanych przez GPU aplikacji i opublikowanych prac naukowych. Umożliwia wykorzystanie mocy obliczeniowej komputera (dokładniej karty graficznej do rozwiązywania ogólnych problemów numerycznych w sposób wydajniejszy niż w tradycyjnych, sekwencyjnych procesorach ogólnego zastosowania.)\n",
        "\n",
        "**matplotlib** - biblioteka do tworzenia wykresów dla języka programowania Python i jego rozszerzenia numerycznego NumPy."
      ],
      "metadata": {
        "id": "cn2RtnB-AHlX"
      }
    }
  ]
}